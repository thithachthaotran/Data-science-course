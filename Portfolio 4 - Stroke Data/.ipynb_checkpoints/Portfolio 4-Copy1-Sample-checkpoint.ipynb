{
 "cells": [
  {
   "cell_type": "markdown",
   "id": "693b52db",
   "metadata": {},
   "source": [
    "### Name: Thi Thach Thao Tran\n",
    "Student ID: 47764554"
   ]
  },
  {
   "cell_type": "markdown",
   "id": "914150b0",
   "metadata": {},
   "source": [
    "# Portfolio 4 - Name of Dataset"
   ]
  },
  {
   "cell_type": "markdown",
   "id": "5033800b",
   "metadata": {},
   "source": [
    "*Data source:* https://www.kaggle.com/datasets/unsdsn/world-happiness \n",
    "\n",
    "Date of data collected: 2015 - 2019\n",
    "\n",
    "Date of data taken: 10 May 2023"
   ]
  },
  {
   "cell_type": "markdown",
   "id": "604af32d",
   "metadata": {},
   "source": [
    "**Dataset Description：**\n",
    "\n",
    "\n",
    "**Dataset Detail Information**\n",
    "The dataset contains 782 records in total. Every record has 15 features and 1 label which are described as below. \n",
    "\n",
    "_Describe all the features (1-2 sentences each):_\n"
   ]
  },
  {
   "cell_type": "markdown",
   "id": "5e68faf6",
   "metadata": {},
   "source": [
    "### List of questions:\n"
   ]
  },
  {
   "cell_type": "code",
   "execution_count": null,
   "id": "f8ff4c1c",
   "metadata": {},
   "outputs": [],
   "source": []
  },
  {
   "cell_type": "markdown",
   "id": "3d1d2140",
   "metadata": {},
   "source": [
    "### Data exploration"
   ]
  },
  {
   "cell_type": "code",
   "execution_count": 1,
   "id": "356a75c7",
   "metadata": {},
   "outputs": [],
   "source": [
    "## Import Packages\n",
    "import numpy as np\n",
    "import pandas as pd\n",
    "import seaborn as sns\n",
    "import matplotlib.pyplot as plt\n",
    "%matplotlib inline\n",
    "\n",
    "import warnings\n",
    "warnings.filterwarnings('ignore')"
   ]
  },
  {
   "cell_type": "code",
   "execution_count": 2,
   "id": "db34e5c7",
   "metadata": {},
   "outputs": [],
   "source": [
    "## Load Dataset and Clean Dataset\n"
   ]
  },
  {
   "cell_type": "code",
   "execution_count": 6,
   "id": "cd89f56b",
   "metadata": {},
   "outputs": [
    {
     "data": {
      "text/plain": [
       "<bound method NDFrame.describe of                       Country  Year  Rank  Score  GDP_Capita   Family  \\\n",
       "0                 Switzerland  2015     1  7.587     1.39651  1.34951   \n",
       "1                     Iceland  2015     2  7.561     1.30232  1.40223   \n",
       "2                     Denmark  2015     3  7.527     1.32548  1.36058   \n",
       "3                      Norway  2015     4  7.522     1.45900  1.33095   \n",
       "4                      Canada  2015     5  7.427     1.32629  1.32261   \n",
       "..                        ...   ...   ...    ...         ...      ...   \n",
       "777                    Rwanda  2019   152  3.334     0.35900  0.71100   \n",
       "778                  Tanzania  2019   153  3.231     0.47600  0.88500   \n",
       "779               Afghanistan  2019   154  3.203     0.35000  0.51700   \n",
       "780  Central African Republic  2019   155  3.083     0.02600  0.00000   \n",
       "781               South Sudan  2019   156  2.853     0.30600  0.57500   \n",
       "\n",
       "     Life_Expectancy  Freedom  Gov_Corruption  Generosity  Dystopia_Residual  \\\n",
       "0            0.94143  0.66557         0.41978     0.29678            2.51738   \n",
       "1            0.94784  0.62877         0.14145     0.43630            2.70201   \n",
       "2            0.87464  0.64938         0.48357     0.34139            2.49204   \n",
       "3            0.88521  0.66973         0.36503     0.34699            2.46531   \n",
       "4            0.90563  0.63297         0.32957     0.45811            2.45176   \n",
       "..               ...      ...             ...         ...                ...   \n",
       "777          0.61400  0.55500         0.41100     0.21700                NaN   \n",
       "778          0.49900  0.41700         0.14700     0.27600                NaN   \n",
       "779          0.36100  0.00000         0.02500     0.15800                NaN   \n",
       "780          0.10500  0.22500         0.03500     0.23500                NaN   \n",
       "781          0.29500  0.01000         0.09100     0.20200                NaN   \n",
       "\n",
       "     St_Error          Region  Lower Confidence Interval  \\\n",
       "0     0.03411  Western Europe                        NaN   \n",
       "1     0.04884  Western Europe                        NaN   \n",
       "2     0.03328  Western Europe                        NaN   \n",
       "3     0.03880  Western Europe                        NaN   \n",
       "4     0.03553   North America                        NaN   \n",
       "..        ...             ...                        ...   \n",
       "777       NaN             NaN                        NaN   \n",
       "778       NaN             NaN                        NaN   \n",
       "779       NaN             NaN                        NaN   \n",
       "780       NaN             NaN                        NaN   \n",
       "781       NaN             NaN                        NaN   \n",
       "\n",
       "     Upper Confidence Interval  \n",
       "0                          NaN  \n",
       "1                          NaN  \n",
       "2                          NaN  \n",
       "3                          NaN  \n",
       "4                          NaN  \n",
       "..                         ...  \n",
       "777                        NaN  \n",
       "778                        NaN  \n",
       "779                        NaN  \n",
       "780                        NaN  \n",
       "781                        NaN  \n",
       "\n",
       "[782 rows x 15 columns]>"
      ]
     },
     "execution_count": 6,
     "metadata": {},
     "output_type": "execute_result"
    }
   ],
   "source": [
    "data.describe"
   ]
  },
  {
   "cell_type": "code",
   "execution_count": 7,
   "id": "358121a5",
   "metadata": {},
   "outputs": [
    {
     "name": "stdout",
     "output_type": "stream",
     "text": [
      "<class 'pandas.core.frame.DataFrame'>\n",
      "RangeIndex: 782 entries, 0 to 781\n",
      "Data columns (total 15 columns):\n",
      " #   Column                     Non-Null Count  Dtype  \n",
      "---  ------                     --------------  -----  \n",
      " 0   Country                    782 non-null    object \n",
      " 1   Year                       782 non-null    int64  \n",
      " 2   Rank                       782 non-null    int64  \n",
      " 3   Score                      782 non-null    float64\n",
      " 4   GDP_Capita                 782 non-null    float64\n",
      " 5   Family                     782 non-null    float64\n",
      " 6   Life_Expectancy            782 non-null    float64\n",
      " 7   Freedom                    782 non-null    float64\n",
      " 8   Gov_Corruption             781 non-null    float64\n",
      " 9   Generosity                 782 non-null    float64\n",
      " 10  Dystopia_Residual          470 non-null    float64\n",
      " 11  St_Error                   158 non-null    float64\n",
      " 12  Region                     315 non-null    object \n",
      " 13  Lower Confidence Interval  312 non-null    float64\n",
      " 14  Upper Confidence Interval  312 non-null    float64\n",
      "dtypes: float64(11), int64(2), object(2)\n",
      "memory usage: 91.8+ KB\n"
     ]
    }
   ],
   "source": [
    "data.info()"
   ]
  },
  {
   "cell_type": "code",
   "execution_count": 5,
   "id": "998fa6e2",
   "metadata": {},
   "outputs": [
    {
     "data": {
      "text/plain": [
       "Index(['Country', 'Year', 'Rank', 'Score', 'GDP_Capita', 'Family',\n",
       "       'Life_Expectancy', 'Freedom', 'Gov_Corruption', 'Generosity',\n",
       "       'Dystopia_Residual', 'St_Error', 'Region', 'Lower Confidence Interval',\n",
       "       'Upper Confidence Interval'],\n",
       "      dtype='object')"
      ]
     },
     "execution_count": 5,
     "metadata": {},
     "output_type": "execute_result"
    }
   ],
   "source": [
    "data.columns"
   ]
  },
  {
   "cell_type": "code",
   "execution_count": 10,
   "id": "88af3de7",
   "metadata": {},
   "outputs": [
    {
     "data": {
      "text/plain": [
       "Country                        0\n",
       "Year                           0\n",
       "Rank                           0\n",
       "Score                          0\n",
       "GDP_Capita                     0\n",
       "Family                         0\n",
       "Life_Expectancy                0\n",
       "Freedom                        0\n",
       "Gov_Corruption                 1\n",
       "Generosity                     0\n",
       "Dystopia_Residual            312\n",
       "St_Error                     624\n",
       "Region                       467\n",
       "Lower Confidence Interval    470\n",
       "Upper Confidence Interval    470\n",
       "dtype: int64"
      ]
     },
     "execution_count": 10,
     "metadata": {},
     "output_type": "execute_result"
    }
   ],
   "source": [
    "#identify the missing values\n",
    "data.isnull().sum()"
   ]
  },
  {
   "cell_type": "code",
   "execution_count": null,
   "id": "650811dd",
   "metadata": {},
   "outputs": [],
   "source": [
    "#mention the column name and count of missing values"
   ]
  },
  {
   "cell_type": "code",
   "execution_count": null,
   "id": "7992c484",
   "metadata": {},
   "outputs": [],
   "source": [
    "# univariate analysis, bi-variate analysis"
   ]
  },
  {
   "cell_type": "code",
   "execution_count": null,
   "id": "fc6b0ed7",
   "metadata": {},
   "outputs": [],
   "source": [
    "data['col1'].describe()"
   ]
  },
  {
   "cell_type": "code",
   "execution_count": null,
   "id": "a35ad748",
   "metadata": {},
   "outputs": [],
   "source": [
    "# univariate analysis \n",
    "#can use hist.\n",
    "plt.hist(data['col1'], bins= 10)"
   ]
  },
  {
   "cell_type": "code",
   "execution_count": null,
   "id": "71721499",
   "metadata": {},
   "outputs": [],
   "source": [
    "#can use boxplot "
   ]
  },
  {
   "cell_type": "code",
   "execution_count": 11,
   "id": "0eb68c0d",
   "metadata": {},
   "outputs": [
    {
     "data": {
      "text/html": [
       "<div>\n",
       "<style scoped>\n",
       "    .dataframe tbody tr th:only-of-type {\n",
       "        vertical-align: middle;\n",
       "    }\n",
       "\n",
       "    .dataframe tbody tr th {\n",
       "        vertical-align: top;\n",
       "    }\n",
       "\n",
       "    .dataframe thead th {\n",
       "        text-align: right;\n",
       "    }\n",
       "</style>\n",
       "<table border=\"1\" class=\"dataframe\">\n",
       "  <thead>\n",
       "    <tr style=\"text-align: right;\">\n",
       "      <th></th>\n",
       "      <th>Year</th>\n",
       "      <th>Rank</th>\n",
       "      <th>Score</th>\n",
       "      <th>GDP_Capita</th>\n",
       "      <th>Family</th>\n",
       "      <th>Life_Expectancy</th>\n",
       "      <th>Freedom</th>\n",
       "      <th>Gov_Corruption</th>\n",
       "      <th>Generosity</th>\n",
       "      <th>Dystopia_Residual</th>\n",
       "      <th>St_Error</th>\n",
       "      <th>Lower Confidence Interval</th>\n",
       "      <th>Upper Confidence Interval</th>\n",
       "    </tr>\n",
       "  </thead>\n",
       "  <tbody>\n",
       "    <tr>\n",
       "      <th>Year</th>\n",
       "      <td>1.000000</td>\n",
       "      <td>-0.007768</td>\n",
       "      <td>0.007065</td>\n",
       "      <td>0.019768</td>\n",
       "      <td>0.367431</td>\n",
       "      <td>0.130302</td>\n",
       "      <td>0.010353</td>\n",
       "      <td>-0.122264</td>\n",
       "      <td>-0.192587</td>\n",
       "      <td>-0.177951</td>\n",
       "      <td>NaN</td>\n",
       "      <td>-0.011672</td>\n",
       "      <td>-0.013188</td>\n",
       "    </tr>\n",
       "    <tr>\n",
       "      <th>Rank</th>\n",
       "      <td>-0.007768</td>\n",
       "      <td>1.000000</td>\n",
       "      <td>-0.992066</td>\n",
       "      <td>-0.794791</td>\n",
       "      <td>-0.644842</td>\n",
       "      <td>-0.743655</td>\n",
       "      <td>-0.537942</td>\n",
       "      <td>-0.372781</td>\n",
       "      <td>-0.117713</td>\n",
       "      <td>-0.482706</td>\n",
       "      <td>0.158516</td>\n",
       "      <td>-0.992989</td>\n",
       "      <td>-0.994027</td>\n",
       "    </tr>\n",
       "    <tr>\n",
       "      <th>Score</th>\n",
       "      <td>0.007065</td>\n",
       "      <td>-0.992066</td>\n",
       "      <td>1.000000</td>\n",
       "      <td>0.789284</td>\n",
       "      <td>0.648799</td>\n",
       "      <td>0.742456</td>\n",
       "      <td>0.551258</td>\n",
       "      <td>0.398418</td>\n",
       "      <td>0.137578</td>\n",
       "      <td>0.489747</td>\n",
       "      <td>-0.177254</td>\n",
       "      <td>0.999497</td>\n",
       "      <td>0.999480</td>\n",
       "    </tr>\n",
       "    <tr>\n",
       "      <th>GDP_Capita</th>\n",
       "      <td>0.019768</td>\n",
       "      <td>-0.794791</td>\n",
       "      <td>0.789284</td>\n",
       "      <td>1.000000</td>\n",
       "      <td>0.585966</td>\n",
       "      <td>0.784338</td>\n",
       "      <td>0.340511</td>\n",
       "      <td>0.306307</td>\n",
       "      <td>-0.014560</td>\n",
       "      <td>0.030087</td>\n",
       "      <td>-0.217651</td>\n",
       "      <td>0.800404</td>\n",
       "      <td>0.799216</td>\n",
       "    </tr>\n",
       "    <tr>\n",
       "      <th>Family</th>\n",
       "      <td>0.367431</td>\n",
       "      <td>-0.644842</td>\n",
       "      <td>0.648799</td>\n",
       "      <td>0.585966</td>\n",
       "      <td>1.000000</td>\n",
       "      <td>0.572650</td>\n",
       "      <td>0.420361</td>\n",
       "      <td>0.126401</td>\n",
       "      <td>-0.037262</td>\n",
       "      <td>-0.081537</td>\n",
       "      <td>-0.120728</td>\n",
       "      <td>0.600899</td>\n",
       "      <td>0.596508</td>\n",
       "    </tr>\n",
       "    <tr>\n",
       "      <th>Life_Expectancy</th>\n",
       "      <td>0.130302</td>\n",
       "      <td>-0.743655</td>\n",
       "      <td>0.742456</td>\n",
       "      <td>0.784338</td>\n",
       "      <td>0.572650</td>\n",
       "      <td>1.000000</td>\n",
       "      <td>0.340745</td>\n",
       "      <td>0.250512</td>\n",
       "      <td>0.010638</td>\n",
       "      <td>0.057674</td>\n",
       "      <td>-0.310287</td>\n",
       "      <td>0.777766</td>\n",
       "      <td>0.768521</td>\n",
       "    </tr>\n",
       "    <tr>\n",
       "      <th>Freedom</th>\n",
       "      <td>0.010353</td>\n",
       "      <td>-0.537942</td>\n",
       "      <td>0.551258</td>\n",
       "      <td>0.340511</td>\n",
       "      <td>0.420361</td>\n",
       "      <td>0.340745</td>\n",
       "      <td>1.000000</td>\n",
       "      <td>0.459593</td>\n",
       "      <td>0.290706</td>\n",
       "      <td>0.038422</td>\n",
       "      <td>-0.129773</td>\n",
       "      <td>0.562123</td>\n",
       "      <td>0.561560</td>\n",
       "    </tr>\n",
       "    <tr>\n",
       "      <th>Gov_Corruption</th>\n",
       "      <td>-0.122264</td>\n",
       "      <td>-0.372781</td>\n",
       "      <td>0.398418</td>\n",
       "      <td>0.306307</td>\n",
       "      <td>0.126401</td>\n",
       "      <td>0.250512</td>\n",
       "      <td>0.459593</td>\n",
       "      <td>1.000000</td>\n",
       "      <td>0.318920</td>\n",
       "      <td>0.000001</td>\n",
       "      <td>-0.178325</td>\n",
       "      <td>0.416764</td>\n",
       "      <td>0.411446</td>\n",
       "    </tr>\n",
       "    <tr>\n",
       "      <th>Generosity</th>\n",
       "      <td>-0.192587</td>\n",
       "      <td>-0.117713</td>\n",
       "      <td>0.137578</td>\n",
       "      <td>-0.014560</td>\n",
       "      <td>-0.037262</td>\n",
       "      <td>0.010638</td>\n",
       "      <td>0.290706</td>\n",
       "      <td>0.318920</td>\n",
       "      <td>1.000000</td>\n",
       "      <td>-0.114468</td>\n",
       "      <td>-0.088439</td>\n",
       "      <td>0.156253</td>\n",
       "      <td>0.155225</td>\n",
       "    </tr>\n",
       "    <tr>\n",
       "      <th>Dystopia_Residual</th>\n",
       "      <td>-0.177951</td>\n",
       "      <td>-0.482706</td>\n",
       "      <td>0.489747</td>\n",
       "      <td>0.030087</td>\n",
       "      <td>-0.081537</td>\n",
       "      <td>0.057674</td>\n",
       "      <td>0.038422</td>\n",
       "      <td>0.000001</td>\n",
       "      <td>-0.114468</td>\n",
       "      <td>1.000000</td>\n",
       "      <td>0.083981</td>\n",
       "      <td>0.465346</td>\n",
       "      <td>0.473915</td>\n",
       "    </tr>\n",
       "    <tr>\n",
       "      <th>St_Error</th>\n",
       "      <td>NaN</td>\n",
       "      <td>0.158516</td>\n",
       "      <td>-0.177254</td>\n",
       "      <td>-0.217651</td>\n",
       "      <td>-0.120728</td>\n",
       "      <td>-0.310287</td>\n",
       "      <td>-0.129773</td>\n",
       "      <td>-0.178325</td>\n",
       "      <td>-0.088439</td>\n",
       "      <td>0.083981</td>\n",
       "      <td>1.000000</td>\n",
       "      <td>NaN</td>\n",
       "      <td>NaN</td>\n",
       "    </tr>\n",
       "    <tr>\n",
       "      <th>Lower Confidence Interval</th>\n",
       "      <td>-0.011672</td>\n",
       "      <td>-0.992989</td>\n",
       "      <td>0.999497</td>\n",
       "      <td>0.800404</td>\n",
       "      <td>0.600899</td>\n",
       "      <td>0.777766</td>\n",
       "      <td>0.562123</td>\n",
       "      <td>0.416764</td>\n",
       "      <td>0.156253</td>\n",
       "      <td>0.465346</td>\n",
       "      <td>NaN</td>\n",
       "      <td>1.000000</td>\n",
       "      <td>0.997954</td>\n",
       "    </tr>\n",
       "    <tr>\n",
       "      <th>Upper Confidence Interval</th>\n",
       "      <td>-0.013188</td>\n",
       "      <td>-0.994027</td>\n",
       "      <td>0.999480</td>\n",
       "      <td>0.799216</td>\n",
       "      <td>0.596508</td>\n",
       "      <td>0.768521</td>\n",
       "      <td>0.561560</td>\n",
       "      <td>0.411446</td>\n",
       "      <td>0.155225</td>\n",
       "      <td>0.473915</td>\n",
       "      <td>NaN</td>\n",
       "      <td>0.997954</td>\n",
       "      <td>1.000000</td>\n",
       "    </tr>\n",
       "  </tbody>\n",
       "</table>\n",
       "</div>"
      ],
      "text/plain": [
       "                               Year      Rank     Score  GDP_Capita    Family  \\\n",
       "Year                       1.000000 -0.007768  0.007065    0.019768  0.367431   \n",
       "Rank                      -0.007768  1.000000 -0.992066   -0.794791 -0.644842   \n",
       "Score                      0.007065 -0.992066  1.000000    0.789284  0.648799   \n",
       "GDP_Capita                 0.019768 -0.794791  0.789284    1.000000  0.585966   \n",
       "Family                     0.367431 -0.644842  0.648799    0.585966  1.000000   \n",
       "Life_Expectancy            0.130302 -0.743655  0.742456    0.784338  0.572650   \n",
       "Freedom                    0.010353 -0.537942  0.551258    0.340511  0.420361   \n",
       "Gov_Corruption            -0.122264 -0.372781  0.398418    0.306307  0.126401   \n",
       "Generosity                -0.192587 -0.117713  0.137578   -0.014560 -0.037262   \n",
       "Dystopia_Residual         -0.177951 -0.482706  0.489747    0.030087 -0.081537   \n",
       "St_Error                        NaN  0.158516 -0.177254   -0.217651 -0.120728   \n",
       "Lower Confidence Interval -0.011672 -0.992989  0.999497    0.800404  0.600899   \n",
       "Upper Confidence Interval -0.013188 -0.994027  0.999480    0.799216  0.596508   \n",
       "\n",
       "                           Life_Expectancy   Freedom  Gov_Corruption  \\\n",
       "Year                              0.130302  0.010353       -0.122264   \n",
       "Rank                             -0.743655 -0.537942       -0.372781   \n",
       "Score                             0.742456  0.551258        0.398418   \n",
       "GDP_Capita                        0.784338  0.340511        0.306307   \n",
       "Family                            0.572650  0.420361        0.126401   \n",
       "Life_Expectancy                   1.000000  0.340745        0.250512   \n",
       "Freedom                           0.340745  1.000000        0.459593   \n",
       "Gov_Corruption                    0.250512  0.459593        1.000000   \n",
       "Generosity                        0.010638  0.290706        0.318920   \n",
       "Dystopia_Residual                 0.057674  0.038422        0.000001   \n",
       "St_Error                         -0.310287 -0.129773       -0.178325   \n",
       "Lower Confidence Interval         0.777766  0.562123        0.416764   \n",
       "Upper Confidence Interval         0.768521  0.561560        0.411446   \n",
       "\n",
       "                           Generosity  Dystopia_Residual  St_Error  \\\n",
       "Year                        -0.192587          -0.177951       NaN   \n",
       "Rank                        -0.117713          -0.482706  0.158516   \n",
       "Score                        0.137578           0.489747 -0.177254   \n",
       "GDP_Capita                  -0.014560           0.030087 -0.217651   \n",
       "Family                      -0.037262          -0.081537 -0.120728   \n",
       "Life_Expectancy              0.010638           0.057674 -0.310287   \n",
       "Freedom                      0.290706           0.038422 -0.129773   \n",
       "Gov_Corruption               0.318920           0.000001 -0.178325   \n",
       "Generosity                   1.000000          -0.114468 -0.088439   \n",
       "Dystopia_Residual           -0.114468           1.000000  0.083981   \n",
       "St_Error                    -0.088439           0.083981  1.000000   \n",
       "Lower Confidence Interval    0.156253           0.465346       NaN   \n",
       "Upper Confidence Interval    0.155225           0.473915       NaN   \n",
       "\n",
       "                           Lower Confidence Interval  \\\n",
       "Year                                       -0.011672   \n",
       "Rank                                       -0.992989   \n",
       "Score                                       0.999497   \n",
       "GDP_Capita                                  0.800404   \n",
       "Family                                      0.600899   \n",
       "Life_Expectancy                             0.777766   \n",
       "Freedom                                     0.562123   \n",
       "Gov_Corruption                              0.416764   \n",
       "Generosity                                  0.156253   \n",
       "Dystopia_Residual                           0.465346   \n",
       "St_Error                                         NaN   \n",
       "Lower Confidence Interval                   1.000000   \n",
       "Upper Confidence Interval                   0.997954   \n",
       "\n",
       "                           Upper Confidence Interval  \n",
       "Year                                       -0.013188  \n",
       "Rank                                       -0.994027  \n",
       "Score                                       0.999480  \n",
       "GDP_Capita                                  0.799216  \n",
       "Family                                      0.596508  \n",
       "Life_Expectancy                             0.768521  \n",
       "Freedom                                     0.561560  \n",
       "Gov_Corruption                              0.411446  \n",
       "Generosity                                  0.155225  \n",
       "Dystopia_Residual                           0.473915  \n",
       "St_Error                                         NaN  \n",
       "Lower Confidence Interval                   0.997954  \n",
       "Upper Confidence Interval                   1.000000  "
      ]
     },
     "execution_count": 11,
     "metadata": {},
     "output_type": "execute_result"
    }
   ],
   "source": [
    "#bi-variate analysis\n",
    "#can use correlation, or \n",
    "#scatter plot\n",
    "#heat map\n",
    "data.corr()"
   ]
  },
  {
   "cell_type": "markdown",
   "id": "3914f021",
   "metadata": {},
   "source": [
    "### Data preparation"
   ]
  },
  {
   "cell_type": "code",
   "execution_count": 12,
   "id": "174319c3",
   "metadata": {},
   "outputs": [],
   "source": [
    "#missing value treatment\n",
    "#drop or replace"
   ]
  },
  {
   "cell_type": "code",
   "execution_count": null,
   "id": "78434556",
   "metadata": {},
   "outputs": [],
   "source": [
    "# Remove outlier \n",
    "# Data Normalization (might not needed) \n",
    "clean_data"
   ]
  },
  {
   "cell_type": "markdown",
   "id": "c577f68b",
   "metadata": {},
   "source": [
    "### Logistic Regression or Linear Regression"
   ]
  },
  {
   "cell_type": "code",
   "execution_count": null,
   "id": "feeaea74",
   "metadata": {},
   "outputs": [],
   "source": [
    "#apply analysis model on clean_data "
   ]
  },
  {
   "cell_type": "code",
   "execution_count": null,
   "id": "3ad41145",
   "metadata": {},
   "outputs": [],
   "source": [
    "#check the number of records before and after Regression"
   ]
  },
  {
   "cell_type": "code",
   "execution_count": null,
   "id": "3f00cde1",
   "metadata": {},
   "outputs": [],
   "source": [
    "# Model 1 Evaluation: \n",
    "#Use various criteria (or metrics) for evaluation: e.g. use of Mean Square Error (MSE), Mean Absolute Error (MAE), and R-squared (r2) for regression problem. \n",
    "#Use of accuracy, F-score, Area Under the ROC curve (AUC) for classification problem."
   ]
  },
  {
   "cell_type": "code",
   "execution_count": null,
   "id": "edb1d4d9",
   "metadata": {},
   "outputs": [],
   "source": [
    "# Model 2\n",
    "#feature selection\n",
    "#RFE\n",
    "\n",
    "#After calculating RFE, can calculate the evaluation again to see any improvement:\n",
    "#Use various criteria (or metrics) for evaluation: e.g. use of Mean Square Error (MSE), Mean Absolute Error (MAE), and R-squared (r2) for regression problem. \n",
    "#Use of accuracy, F-score, Area Under the ROC curve (AUC) for classification problem."
   ]
  },
  {
   "cell_type": "markdown",
   "id": "2b6e99f1",
   "metadata": {},
   "source": [
    "### Classification KNN"
   ]
  },
  {
   "cell_type": "code",
   "execution_count": null,
   "id": "48ddc40c",
   "metadata": {},
   "outputs": [],
   "source": [
    "# Model 3\n",
    "#Calculate accuracy, F-score"
   ]
  },
  {
   "cell_type": "code",
   "execution_count": null,
   "id": "1f486d6a",
   "metadata": {},
   "outputs": [],
   "source": [
    "# Model 4\n",
    "#hyper-parameter selection K, (also can use neural network but if dataset only have few records, don't use neural network)\n",
    "#Calculate accuracy, F-score"
   ]
  },
  {
   "cell_type": "markdown",
   "id": "3ba9f4d8",
   "metadata": {},
   "source": [
    "### Data visualisation"
   ]
  },
  {
   "cell_type": "code",
   "execution_count": null,
   "id": "acd1214f",
   "metadata": {},
   "outputs": [],
   "source": [
    "#Create 2 different dataframe for each evaluation score. For ex: Accuracy btw Model 1 and 2\n",
    "#In a single graph, display accuracy of Model 1 and 2. "
   ]
  },
  {
   "cell_type": "code",
   "execution_count": null,
   "id": "6cfe971e",
   "metadata": {},
   "outputs": [],
   "source": [
    "#In a single graph, display accuracy of Model 3 and 4. \n",
    "#remember to add legend, x-axis name, y-axis name, graph title, text size should indicate the level of information. "
   ]
  },
  {
   "cell_type": "markdown",
   "id": "82081bf2",
   "metadata": {},
   "source": [
    "### Analysis\n",
    "Write analysis here. \n",
    "\n",
    "1 para for model 1 and 2. \n",
    "\n",
    "1 para for model 3 and 4. "
   ]
  },
  {
   "cell_type": "code",
   "execution_count": null,
   "id": "0cbc3073",
   "metadata": {},
   "outputs": [],
   "source": []
  }
 ],
 "metadata": {
  "kernelspec": {
   "display_name": "Python 3 (ipykernel)",
   "language": "python",
   "name": "python3"
  },
  "language_info": {
   "codemirror_mode": {
    "name": "ipython",
    "version": 3
   },
   "file_extension": ".py",
   "mimetype": "text/x-python",
   "name": "python",
   "nbconvert_exporter": "python",
   "pygments_lexer": "ipython3",
   "version": "3.9.13"
  }
 },
 "nbformat": 4,
 "nbformat_minor": 5
}
